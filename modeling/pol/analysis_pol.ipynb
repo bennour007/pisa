{
 "cells": [
  {
   "cell_type": "code",
   "execution_count": 3,
   "metadata": {},
   "outputs": [],
   "source": [
    "import pandas as pd\n",
    "import numpy as np\n",
    "from pystoned import CNLS, CNLSDDF, StoNED\n",
    "from pystoned.constant import CET_MULT, CET_ADDI, FUN_COST, FUN_PROD, RTS_VRS, RTS_CRS, RED_MOM, OPT_LOCAL, RED_QLE, RED_KDE"
   ]
  },
  {
   "cell_type": "code",
   "execution_count": 4,
   "metadata": {},
   "outputs": [],
   "source": [
    "data = pd.read_csv(\"../../data_ready/data_ready.csv\").dropna()"
   ]
  },
  {
   "cell_type": "code",
   "execution_count": 5,
   "metadata": {},
   "outputs": [
    {
     "name": "stderr",
     "output_type": "stream",
     "text": [
      "<ipython-input-5-2d5bbaf7f3b1>:8: SettingWithCopyWarning: \n",
      "A value is trying to be set on a copy of a slice from a DataFrame.\n",
      "Try using .loc[row_indexer,col_indexer] = value instead\n",
      "\n",
      "See the caveats in the documentation: https://pandas.pydata.org/pandas-docs/stable/user_guide/indexing.html#returning-a-view-versus-a-copy\n",
      "  data_pol[\"avg_scores\"] = outputs_pol.mean(axis = 1)\n"
     ]
    }
   ],
   "source": [
    "data_pol = data[data[\"CNT\"] == 'POL']\n",
    "\n",
    "inputs_pol = data_pol[[\"total_students\", \"ratio_f2m\", \"ratio_t2s\", \"ratio_pt2ft\"]].values.tolist()\n",
    "outputs_pol = data_pol[[\"avg_math\", \"avg_cog\", \"avg_science\", \"avg_read\"]]\n",
    "d_outputs_pol = data_pol[[\"avg_math\", \"avg_cog\", \"avg_science\", \"avg_read\"]].values.tolist()\n",
    "undesirables_pol = data_pol[[\"dropout_rate\"]].values.tolist()\n",
    "contextuals_pol = data_pol[[\"bol_competition\", \"bol_location\"]].values.tolist()\n",
    "data_pol[\"avg_scores\"] = outputs_pol.mean(axis = 1)\n",
    "z_output_pol = data_pol[[\"avg_scores\"]].values.tolist()"
   ]
  },
  {
   "cell_type": "code",
   "execution_count": 6,
   "metadata": {},
   "outputs": [],
   "source": [
    "model1_pol = CNLS.CNLS(\n",
    "    y = z_output_pol, \n",
    "    x = inputs_pol, \n",
    "    z = contextuals_pol, \n",
    "    cet = CET_ADDI, \n",
    "    fun = FUN_PROD, \n",
    "    rts = RTS_CRS\n",
    ")\n",
    "\n",
    "model2_pol = CNLS.CNLS(\n",
    "    y = z_output_pol, \n",
    "    x = inputs_pol, \n",
    "    z = contextuals_pol, \n",
    "    cet = CET_ADDI, \n",
    "    fun = FUN_PROD, \n",
    "    rts = RTS_VRS\n",
    ")\n",
    "\n",
    "# define the CNLSDDF model with undesirable output\n",
    "model3_pol = CNLSDDF.CNLSDDF(\n",
    "    y = d_outputs_pol, \n",
    "    x = inputs_pol, \n",
    "    b = undesirables_pol, \n",
    "    gb = -1.0,\n",
    "    gy = [1.0, 1.0, 1.0, 1.0],\n",
    "    gx = [1.0, 1.0, 1.0, 1.0],\n",
    "    fun = FUN_PROD\n",
    ")\n",
    "\n",
    "# define the CNLSDDF model with undesirable output\n",
    "model4_pol = CNLSDDF.CNLSDDF(\n",
    "    y = d_outputs_pol, \n",
    "    x = inputs_pol, \n",
    "    gy = [1.0, 1.0, 1.0, 1.0],\n",
    "    gx = [1.0, 1.0, 1.0, 1.0],\n",
    "    fun = FUN_PROD\n",
    ")"
   ]
  },
  {
   "cell_type": "code",
   "execution_count": 8,
   "metadata": {},
   "outputs": [
    {
     "name": "stdout",
     "output_type": "stream",
     "text": [
      "Optimizing locally.\n",
      "Estimating the additive model locally with mosek solver.\n"
     ]
    },
    {
     "ename": "Error",
     "evalue": "rescode.err_invalid_aij(1473): The value of the A matrix element in constraint '' (1416) for variable 'x265' (264) is invalid.",
     "output_type": "error",
     "traceback": [
      "\u001b[0;31m---------------------------------------------------------------------------\u001b[0m",
      "\u001b[0;31mError\u001b[0m                                     Traceback (most recent call last)",
      "\u001b[0;32m<ipython-input-8-d2ad20309c40>\u001b[0m in \u001b[0;36m?\u001b[0;34m()\u001b[0m\n\u001b[0;32m----> 4\u001b[0;31m \u001b[0;31m# model1_pol.optimize(OPT_LOCAL)\u001b[0m\u001b[0;34m\u001b[0m\u001b[0;34m\u001b[0m\u001b[0m\n\u001b[0m\u001b[1;32m      5\u001b[0m \u001b[0;31m# model2_pol.optimize(OPT_LOCAL)\u001b[0m\u001b[0;34m\u001b[0m\u001b[0;34m\u001b[0m\u001b[0m\n\u001b[1;32m      6\u001b[0m \u001b[0;31m# model3_pol.optimize(OPT_LOCAL)\u001b[0m\u001b[0;34m\u001b[0m\u001b[0;34m\u001b[0m\u001b[0m\n\u001b[1;32m      7\u001b[0m \u001b[0mmodel4_pol\u001b[0m\u001b[0;34m.\u001b[0m\u001b[0moptimize\u001b[0m\u001b[0;34m(\u001b[0m\u001b[0mOPT_LOCAL\u001b[0m\u001b[0;34m)\u001b[0m\u001b[0;34m\u001b[0m\u001b[0;34m\u001b[0m\u001b[0m\n",
      "\u001b[0;32m~/miniconda3/envs/papyr2/lib/python3.9/site-packages/pystoned/CNLSDDF.py\u001b[0m in \u001b[0;36m?\u001b[0;34m(self, email, solver)\u001b[0m\n\u001b[1;32m     76\u001b[0m             \u001b[0memail\u001b[0m \u001b[0;34m(\u001b[0m\u001b[0mstring\u001b[0m\u001b[0;34m)\u001b[0m\u001b[0;34m:\u001b[0m \u001b[0mThe\u001b[0m \u001b[0memail\u001b[0m \u001b[0maddress\u001b[0m \u001b[0;32mfor\u001b[0m \u001b[0mremote\u001b[0m \u001b[0moptimization\u001b[0m\u001b[0;34m.\u001b[0m \u001b[0mIt\u001b[0m \u001b[0mwill\u001b[0m \u001b[0moptimize\u001b[0m \u001b[0mlocally\u001b[0m \u001b[0;32mif\u001b[0m \u001b[0mOPT_LOCAL\u001b[0m \u001b[0;32mis\u001b[0m \u001b[0mgiven\u001b[0m\u001b[0;34m.\u001b[0m\u001b[0;34m\u001b[0m\u001b[0;34m\u001b[0m\u001b[0m\n\u001b[1;32m     77\u001b[0m             \u001b[0msolver\u001b[0m \u001b[0;34m(\u001b[0m\u001b[0mstring\u001b[0m\u001b[0;34m)\u001b[0m\u001b[0;34m:\u001b[0m \u001b[0mThe\u001b[0m \u001b[0msolver\u001b[0m \u001b[0mchosen\u001b[0m \u001b[0;32mfor\u001b[0m \u001b[0moptimization\u001b[0m\u001b[0;34m.\u001b[0m \u001b[0mIt\u001b[0m \u001b[0mwill\u001b[0m \u001b[0moptimize\u001b[0m \u001b[0;32mwith\u001b[0m \u001b[0mdefault\u001b[0m \u001b[0msolver\u001b[0m \u001b[0;32mif\u001b[0m \u001b[0mOPT_DEFAULT\u001b[0m \u001b[0;32mis\u001b[0m \u001b[0mgiven\u001b[0m\u001b[0;34m.\u001b[0m\u001b[0;34m\u001b[0m\u001b[0;34m\u001b[0m\u001b[0m\n\u001b[1;32m     78\u001b[0m         \"\"\"\n\u001b[1;32m     79\u001b[0m         \u001b[0;31m# TODO(error/warning handling): Check problem status after optimization\u001b[0m\u001b[0;34m\u001b[0m\u001b[0;34m\u001b[0m\u001b[0m\n\u001b[0;32m---> 80\u001b[0;31m         self.problem_status, self.optimization_status = tools.optimize_model(\n\u001b[0m\u001b[1;32m     81\u001b[0m             self.__model__, email, CET_ADDI, solver)\n",
      "\u001b[0;32m~/miniconda3/envs/papyr2/lib/python3.9/site-packages/pystoned/utils/tools.py\u001b[0m in \u001b[0;36m?\u001b[0;34m(model, email, cet, solver)\u001b[0m\n\u001b[1;32m     33\u001b[0m                 \"Please specify the solver for optimizing multiplicative model locally.\")\n\u001b[1;32m     34\u001b[0m         \u001b[0msolver_instance\u001b[0m \u001b[0;34m=\u001b[0m \u001b[0mSolverFactory\u001b[0m\u001b[0;34m(\u001b[0m\u001b[0msolver\u001b[0m\u001b[0;34m)\u001b[0m\u001b[0;34m\u001b[0m\u001b[0;34m\u001b[0m\u001b[0m\n\u001b[1;32m     35\u001b[0m         print(\"Estimating the {} locally with {} solver.\".format(\n\u001b[1;32m     36\u001b[0m             CET_Model_Categories[cet], solver), flush=True)\n\u001b[0;32m---> 37\u001b[0;31m         \u001b[0;32mreturn\u001b[0m \u001b[0msolver_instance\u001b[0m\u001b[0;34m.\u001b[0m\u001b[0msolve\u001b[0m\u001b[0;34m(\u001b[0m\u001b[0mmodel\u001b[0m\u001b[0;34m,\u001b[0m \u001b[0mtee\u001b[0m\u001b[0;34m=\u001b[0m\u001b[0;32mTrue\u001b[0m\u001b[0;34m)\u001b[0m\u001b[0;34m,\u001b[0m \u001b[0;36m1\u001b[0m\u001b[0;34m\u001b[0m\u001b[0;34m\u001b[0m\u001b[0m\n\u001b[0m\u001b[1;32m     38\u001b[0m     \u001b[0;32melse\u001b[0m\u001b[0;34m:\u001b[0m\u001b[0;34m\u001b[0m\u001b[0;34m\u001b[0m\u001b[0m\n\u001b[1;32m     39\u001b[0m         \u001b[0;32mif\u001b[0m \u001b[0msolver\u001b[0m \u001b[0;32mis\u001b[0m \u001b[0mOPT_DEFAULT\u001b[0m \u001b[0;32mand\u001b[0m \u001b[0mcet\u001b[0m \u001b[0;32mis\u001b[0m \u001b[0mCET_ADDI\u001b[0m\u001b[0;34m:\u001b[0m\u001b[0;34m\u001b[0m\u001b[0;34m\u001b[0m\u001b[0m\n\u001b[1;32m     40\u001b[0m             \u001b[0msolver\u001b[0m \u001b[0;34m=\u001b[0m \u001b[0;34m\"mosek\"\u001b[0m\u001b[0;34m\u001b[0m\u001b[0;34m\u001b[0m\u001b[0m\n",
      "\u001b[0;32m~/miniconda3/envs/papyr2/lib/python3.9/site-packages/pyomo/solvers/plugins/solvers/direct_solver.py\u001b[0m in \u001b[0;36m?\u001b[0;34m(self, *args, **kwds)\u001b[0m\n\u001b[1;32m    218\u001b[0m         \u001b[0;32mfinally\u001b[0m\u001b[0;34m:\u001b[0m\u001b[0;34m\u001b[0m\u001b[0;34m\u001b[0m\u001b[0m\n\u001b[1;32m    219\u001b[0m             \u001b[0;31m#\u001b[0m\u001b[0;34m\u001b[0m\u001b[0;34m\u001b[0m\u001b[0m\n\u001b[1;32m    220\u001b[0m             \u001b[0;31m# Reset the options dict\u001b[0m\u001b[0;34m\u001b[0m\u001b[0;34m\u001b[0m\u001b[0m\n\u001b[1;32m    221\u001b[0m             \u001b[0;31m#\u001b[0m\u001b[0;34m\u001b[0m\u001b[0;34m\u001b[0m\u001b[0m\n\u001b[0;32m--> 222\u001b[0;31m             \u001b[0mself\u001b[0m\u001b[0;34m.\u001b[0m\u001b[0moptions\u001b[0m \u001b[0;34m=\u001b[0m \u001b[0morig_options\u001b[0m\u001b[0;34m\u001b[0m\u001b[0;34m\u001b[0m\u001b[0m\n\u001b[0m\u001b[1;32m    223\u001b[0m \u001b[0;34m\u001b[0m\u001b[0m\n\u001b[1;32m    224\u001b[0m         \u001b[0;32mreturn\u001b[0m \u001b[0mresult\u001b[0m\u001b[0;34m\u001b[0m\u001b[0;34m\u001b[0m\u001b[0m\n",
      "\u001b[0;32m~/miniconda3/envs/papyr2/lib/python3.9/site-packages/pyomo/solvers/plugins/solvers/direct_solver.py\u001b[0m in \u001b[0;36m?\u001b[0;34m(self, *args, **kwds)\u001b[0m\n\u001b[1;32m     64\u001b[0m                 \u001b[0;34m+\u001b[0m \u001b[0;34m\"supplied.\"\u001b[0m\u001b[0;34m\u001b[0m\u001b[0;34m\u001b[0m\u001b[0m\n\u001b[1;32m     65\u001b[0m             ).format(type(self), len(args))\n\u001b[1;32m     66\u001b[0m             \u001b[0;32mraise\u001b[0m \u001b[0mValueError\u001b[0m\u001b[0;34m(\u001b[0m\u001b[0mmsg\u001b[0m\u001b[0;34m)\u001b[0m\u001b[0;34m\u001b[0m\u001b[0;34m\u001b[0m\u001b[0m\n\u001b[1;32m     67\u001b[0m \u001b[0;34m\u001b[0m\u001b[0m\n\u001b[0;32m---> 68\u001b[0;31m         \u001b[0mself\u001b[0m\u001b[0;34m.\u001b[0m\u001b[0m_set_instance\u001b[0m\u001b[0;34m(\u001b[0m\u001b[0mmodel\u001b[0m\u001b[0;34m,\u001b[0m \u001b[0mkwds\u001b[0m\u001b[0;34m)\u001b[0m\u001b[0;34m\u001b[0m\u001b[0;34m\u001b[0m\u001b[0m\n\u001b[0m\u001b[1;32m     69\u001b[0m \u001b[0;34m\u001b[0m\u001b[0m\n\u001b[1;32m     70\u001b[0m         \u001b[0mDirectOrPersistentSolver\u001b[0m\u001b[0;34m.\u001b[0m\u001b[0m_presolve\u001b[0m\u001b[0;34m(\u001b[0m\u001b[0mself\u001b[0m\u001b[0;34m,\u001b[0m \u001b[0;34m**\u001b[0m\u001b[0mkwds\u001b[0m\u001b[0;34m)\u001b[0m\u001b[0;34m\u001b[0m\u001b[0;34m\u001b[0m\u001b[0m\n",
      "\u001b[0;32m~/miniconda3/envs/papyr2/lib/python3.9/site-packages/pyomo/solvers/plugins/solvers/mosek_direct.py\u001b[0m in \u001b[0;36m?\u001b[0;34m(self, model, kwds)\u001b[0m\n\u001b[1;32m    204\u001b[0m         \u001b[0;32mexcept\u001b[0m\u001b[0;34m:\u001b[0m\u001b[0;34m\u001b[0m\u001b[0;34m\u001b[0m\u001b[0m\n\u001b[1;32m    205\u001b[0m             \u001b[0merr_msg\u001b[0m \u001b[0;34m=\u001b[0m \u001b[0msys\u001b[0m\u001b[0;34m.\u001b[0m\u001b[0mexc_info\u001b[0m\u001b[0;34m(\u001b[0m\u001b[0;34m)\u001b[0m\u001b[0;34m[\u001b[0m\u001b[0;36m1\u001b[0m\u001b[0;34m]\u001b[0m\u001b[0;34m\u001b[0m\u001b[0;34m\u001b[0m\u001b[0m\n\u001b[1;32m    206\u001b[0m             \u001b[0mlogger\u001b[0m\u001b[0;34m.\u001b[0m\u001b[0merror\u001b[0m\u001b[0;34m(\u001b[0m\u001b[0;34m\"MOSEK task creation failed. \"\u001b[0m \u001b[0;34m+\u001b[0m \u001b[0;34m\"Reason: {}\"\u001b[0m\u001b[0;34m.\u001b[0m\u001b[0mformat\u001b[0m\u001b[0;34m(\u001b[0m\u001b[0merr_msg\u001b[0m\u001b[0;34m)\u001b[0m\u001b[0;34m)\u001b[0m\u001b[0;34m\u001b[0m\u001b[0;34m\u001b[0m\u001b[0m\n\u001b[1;32m    207\u001b[0m             \u001b[0;32mraise\u001b[0m\u001b[0;34m\u001b[0m\u001b[0;34m\u001b[0m\u001b[0m\n\u001b[0;32m--> 208\u001b[0;31m         \u001b[0mself\u001b[0m\u001b[0;34m.\u001b[0m\u001b[0m_add_block\u001b[0m\u001b[0;34m(\u001b[0m\u001b[0mmodel\u001b[0m\u001b[0;34m)\u001b[0m\u001b[0;34m\u001b[0m\u001b[0;34m\u001b[0m\u001b[0m\n\u001b[0m",
      "\u001b[0;32m~/miniconda3/envs/papyr2/lib/python3.9/site-packages/pyomo/solvers/plugins/solvers/mosek_direct.py\u001b[0m in \u001b[0;36m?\u001b[0;34m(self, block)\u001b[0m\n\u001b[1;32m    571\u001b[0m                 \u001b[0;32mif\u001b[0m \u001b[0;34m(\u001b[0m\u001b[0;32mnot\u001b[0m \u001b[0mcon\u001b[0m\u001b[0;34m.\u001b[0m\u001b[0mhas_lb\u001b[0m\u001b[0;34m(\u001b[0m\u001b[0;34m)\u001b[0m\u001b[0;34m)\u001b[0m \u001b[0;32mand\u001b[0m \u001b[0;34m(\u001b[0m\u001b[0;32mnot\u001b[0m \u001b[0mcon\u001b[0m\u001b[0;34m.\u001b[0m\u001b[0mhas_ub\u001b[0m\u001b[0;34m(\u001b[0m\u001b[0;34m)\u001b[0m\u001b[0;34m)\u001b[0m\u001b[0;34m:\u001b[0m\u001b[0;34m\u001b[0m\u001b[0;34m\u001b[0m\u001b[0m\n\u001b[1;32m    572\u001b[0m                     \u001b[0;32massert\u001b[0m \u001b[0;32mnot\u001b[0m \u001b[0mcon\u001b[0m\u001b[0;34m.\u001b[0m\u001b[0mequality\u001b[0m\u001b[0;34m\u001b[0m\u001b[0;34m\u001b[0m\u001b[0m\n\u001b[1;32m    573\u001b[0m                     \u001b[0;32mcontinue\u001b[0m  \u001b[0;31m# non-binding, so skip\u001b[0m\u001b[0;34m\u001b[0m\u001b[0;34m\u001b[0m\u001b[0m\n\u001b[1;32m    574\u001b[0m                 \u001b[0mcon_list\u001b[0m\u001b[0;34m.\u001b[0m\u001b[0mappend\u001b[0m\u001b[0;34m(\u001b[0m\u001b[0mcon\u001b[0m\u001b[0;34m)\u001b[0m\u001b[0;34m\u001b[0m\u001b[0;34m\u001b[0m\u001b[0m\n\u001b[0;32m--> 575\u001b[0;31m             \u001b[0mself\u001b[0m\u001b[0;34m.\u001b[0m\u001b[0m_add_constraints\u001b[0m\u001b[0;34m(\u001b[0m\u001b[0mcon_list\u001b[0m\u001b[0;34m)\u001b[0m\u001b[0;34m\u001b[0m\u001b[0;34m\u001b[0m\u001b[0m\n\u001b[0m\u001b[1;32m    576\u001b[0m \u001b[0;34m\u001b[0m\u001b[0m\n\u001b[1;32m    577\u001b[0m             for con in sub_block.component_data_objects(\n\u001b[1;32m    578\u001b[0m                 \u001b[0mctype\u001b[0m\u001b[0;34m=\u001b[0m\u001b[0mpyomo\u001b[0m\u001b[0;34m.\u001b[0m\u001b[0mcore\u001b[0m\u001b[0;34m.\u001b[0m\u001b[0mbase\u001b[0m\u001b[0;34m.\u001b[0m\u001b[0msos\u001b[0m\u001b[0;34m.\u001b[0m\u001b[0mSOSConstraint\u001b[0m\u001b[0;34m,\u001b[0m\u001b[0;34m\u001b[0m\u001b[0;34m\u001b[0m\u001b[0m\n",
      "\u001b[0;32m~/miniconda3/envs/papyr2/lib/python3.9/site-packages/pyomo/solvers/plugins/solvers/mosek_direct.py\u001b[0m in \u001b[0;36m?\u001b[0;34m(self, con_seq)\u001b[0m\n\u001b[1;32m    490\u001b[0m             \u001b[0mqcsubj\u001b[0m \u001b[0;34m=\u001b[0m \u001b[0mtuple\u001b[0m\u001b[0;34m(\u001b[0m\u001b[0mitertools\u001b[0m\u001b[0;34m.\u001b[0m\u001b[0mchain\u001b[0m\u001b[0;34m.\u001b[0m\u001b[0mfrom_iterable\u001b[0m\u001b[0;34m(\u001b[0m\u001b[0mq_js\u001b[0m\u001b[0;34m)\u001b[0m\u001b[0;34m)\u001b[0m\u001b[0;34m\u001b[0m\u001b[0;34m\u001b[0m\u001b[0m\n\u001b[1;32m    491\u001b[0m             \u001b[0mqcval\u001b[0m \u001b[0;34m=\u001b[0m \u001b[0mtuple\u001b[0m\u001b[0;34m(\u001b[0m\u001b[0mitertools\u001b[0m\u001b[0;34m.\u001b[0m\u001b[0mchain\u001b[0m\u001b[0;34m.\u001b[0m\u001b[0mfrom_iterable\u001b[0m\u001b[0;34m(\u001b[0m\u001b[0mq_vals\u001b[0m\u001b[0;34m)\u001b[0m\u001b[0;34m)\u001b[0m\u001b[0;34m\u001b[0m\u001b[0;34m\u001b[0m\u001b[0m\n\u001b[1;32m    492\u001b[0m             \u001b[0mqcsubk\u001b[0m \u001b[0;34m=\u001b[0m \u001b[0mtuple\u001b[0m\u001b[0;34m(\u001b[0m\u001b[0mi\u001b[0m \u001b[0;32mfor\u001b[0m \u001b[0mi\u001b[0m \u001b[0;32min\u001b[0m \u001b[0msub\u001b[0m \u001b[0;32mfor\u001b[0m \u001b[0mj\u001b[0m \u001b[0;32min\u001b[0m \u001b[0mrange\u001b[0m\u001b[0;34m(\u001b[0m\u001b[0mlen\u001b[0m\u001b[0;34m(\u001b[0m\u001b[0mq_is\u001b[0m\u001b[0;34m[\u001b[0m\u001b[0mi\u001b[0m \u001b[0;34m-\u001b[0m \u001b[0mcon_num\u001b[0m\u001b[0;34m]\u001b[0m\u001b[0;34m)\u001b[0m\u001b[0;34m)\u001b[0m\u001b[0;34m)\u001b[0m\u001b[0;34m\u001b[0m\u001b[0;34m\u001b[0m\u001b[0m\n\u001b[1;32m    493\u001b[0m             \u001b[0mself\u001b[0m\u001b[0;34m.\u001b[0m\u001b[0m_solver_model\u001b[0m\u001b[0;34m.\u001b[0m\u001b[0mappendcons\u001b[0m\u001b[0;34m(\u001b[0m\u001b[0mnum_lq\u001b[0m\u001b[0;34m)\u001b[0m\u001b[0;34m\u001b[0m\u001b[0;34m\u001b[0m\u001b[0m\n\u001b[0;32m--> 494\u001b[0;31m             \u001b[0mself\u001b[0m\u001b[0;34m.\u001b[0m\u001b[0m_solver_model\u001b[0m\u001b[0;34m.\u001b[0m\u001b[0mputarowlist\u001b[0m\u001b[0;34m(\u001b[0m\u001b[0msub\u001b[0m\u001b[0;34m,\u001b[0m \u001b[0mptrb\u001b[0m\u001b[0;34m,\u001b[0m \u001b[0mptre\u001b[0m\u001b[0;34m,\u001b[0m \u001b[0masubs\u001b[0m\u001b[0;34m,\u001b[0m \u001b[0mavals\u001b[0m\u001b[0;34m)\u001b[0m\u001b[0;34m\u001b[0m\u001b[0;34m\u001b[0m\u001b[0m\n\u001b[0m\u001b[1;32m    495\u001b[0m             \u001b[0mself\u001b[0m\u001b[0;34m.\u001b[0m\u001b[0m_solver_model\u001b[0m\u001b[0;34m.\u001b[0m\u001b[0mputqcon\u001b[0m\u001b[0;34m(\u001b[0m\u001b[0mqcsubk\u001b[0m\u001b[0;34m,\u001b[0m \u001b[0mqcsubi\u001b[0m\u001b[0;34m,\u001b[0m \u001b[0mqcsubj\u001b[0m\u001b[0;34m,\u001b[0m \u001b[0mqcval\u001b[0m\u001b[0;34m)\u001b[0m\u001b[0;34m\u001b[0m\u001b[0;34m\u001b[0m\u001b[0m\n\u001b[1;32m    496\u001b[0m             \u001b[0mself\u001b[0m\u001b[0;34m.\u001b[0m\u001b[0m_solver_model\u001b[0m\u001b[0;34m.\u001b[0m\u001b[0mputconboundlist\u001b[0m\u001b[0;34m(\u001b[0m\u001b[0msub\u001b[0m\u001b[0;34m,\u001b[0m \u001b[0mbound_types\u001b[0m\u001b[0;34m,\u001b[0m \u001b[0mlbs\u001b[0m\u001b[0;34m,\u001b[0m \u001b[0mubs\u001b[0m\u001b[0;34m)\u001b[0m\u001b[0;34m\u001b[0m\u001b[0;34m\u001b[0m\u001b[0m\n\u001b[1;32m    497\u001b[0m             \u001b[0;32mfor\u001b[0m \u001b[0mi\u001b[0m\u001b[0;34m,\u001b[0m \u001b[0ms_n\u001b[0m \u001b[0;32min\u001b[0m \u001b[0menumerate\u001b[0m\u001b[0;34m(\u001b[0m\u001b[0msub_names\u001b[0m\u001b[0;34m)\u001b[0m\u001b[0;34m:\u001b[0m\u001b[0;34m\u001b[0m\u001b[0;34m\u001b[0m\u001b[0m\n",
      "\u001b[0;32m~/miniconda3/envs/papyr2/lib/python3.9/site-packages/mosek/__init__.py\u001b[0m in \u001b[0;36m?\u001b[0;34m(self, *args, **kwds)\u001b[0m\n\u001b[1;32m  11363\u001b[0m         \u001b[0;34m[\u001b[0m\u001b[0mptrb\u001b[0m \u001b[0;34m:\u001b[0m \u001b[0marray\u001b[0m\u001b[0;34m(\u001b[0m\u001b[0mint64\u001b[0m\u001b[0;34m)\u001b[0m\u001b[0;34m]\u001b[0m  \u001b[0mArray\u001b[0m \u001b[0mof\u001b[0m \u001b[0mpointers\u001b[0m \u001b[0mto\u001b[0m \u001b[0mthe\u001b[0m \u001b[0mfirst\u001b[0m \u001b[0melement\u001b[0m \u001b[0;32min\u001b[0m \u001b[0mthe\u001b[0m \u001b[0mrows\u001b[0m\u001b[0;34m.\u001b[0m\u001b[0;34m\u001b[0m\u001b[0;34m\u001b[0m\u001b[0m\n\u001b[1;32m  11364\u001b[0m         \u001b[0;34m[\u001b[0m\u001b[0mptre\u001b[0m \u001b[0;34m:\u001b[0m \u001b[0marray\u001b[0m\u001b[0;34m(\u001b[0m\u001b[0mint64\u001b[0m\u001b[0;34m)\u001b[0m\u001b[0;34m]\u001b[0m  \u001b[0mArray\u001b[0m \u001b[0mof\u001b[0m \u001b[0mpointers\u001b[0m \u001b[0mto\u001b[0m \u001b[0mthe\u001b[0m \u001b[0mlast\u001b[0m \u001b[0melement\u001b[0m \u001b[0mplus\u001b[0m \u001b[0mone\u001b[0m \u001b[0;32min\u001b[0m \u001b[0mthe\u001b[0m \u001b[0mrows\u001b[0m\u001b[0;34m.\u001b[0m\u001b[0;34m\u001b[0m\u001b[0;34m\u001b[0m\u001b[0m\n\u001b[1;32m  11365\u001b[0m         \u001b[0;34m[\u001b[0m\u001b[0msub\u001b[0m \u001b[0;34m:\u001b[0m \u001b[0marray\u001b[0m\u001b[0;34m(\u001b[0m\u001b[0mint32\u001b[0m\u001b[0;34m)\u001b[0m\u001b[0;34m]\u001b[0m  \u001b[0mIndexes\u001b[0m \u001b[0mof\u001b[0m \u001b[0mrows\u001b[0m \u001b[0;32mor\u001b[0m \u001b[0mcolumns\u001b[0m \u001b[0mthat\u001b[0m \u001b[0mshould\u001b[0m \u001b[0mbe\u001b[0m \u001b[0mreplaced\u001b[0m\u001b[0;34m.\u001b[0m\u001b[0;34m\u001b[0m\u001b[0;34m\u001b[0m\u001b[0m\n\u001b[1;32m  11366\u001b[0m       \"\"\"\n\u001b[0;32m> 11367\u001b[0;31m       \u001b[0;32mreturn\u001b[0m \u001b[0mself\u001b[0m\u001b[0;34m.\u001b[0m\u001b[0m__putarowlist64_OOOOO_6\u001b[0m\u001b[0;34m(\u001b[0m\u001b[0;34m*\u001b[0m\u001b[0margs\u001b[0m\u001b[0;34m,\u001b[0m\u001b[0;34m**\u001b[0m\u001b[0mkwds\u001b[0m\u001b[0;34m)\u001b[0m\u001b[0;34m\u001b[0m\u001b[0;34m\u001b[0m\u001b[0m\n\u001b[0m",
      "\u001b[0;32m~/miniconda3/envs/papyr2/lib/python3.9/site-packages/mosek/__init__.py\u001b[0m in \u001b[0;36m?\u001b[0;34m(self, sub, ptrb, ptre, asub, aval)\u001b[0m\n\u001b[1;32m  11351\u001b[0m             \u001b[0maval_\u001b[0m \u001b[0;34m=\u001b[0m \u001b[0m_tmparray_aval\u001b[0m\u001b[0;34m\u001b[0m\u001b[0;34m\u001b[0m\u001b[0m\n\u001b[1;32m  11352\u001b[0m       \u001b[0m_res_putarowlist64\u001b[0m\u001b[0;34m,\u001b[0m\u001b[0m_retargs_putarowlist64\u001b[0m \u001b[0;34m=\u001b[0m \u001b[0mself\u001b[0m\u001b[0;34m.\u001b[0m\u001b[0m__obj\u001b[0m\u001b[0;34m.\u001b[0m\u001b[0mputarowlist64_OOOOO_6\u001b[0m\u001b[0;34m(\u001b[0m\u001b[0mmemview_sub\u001b[0m\u001b[0;34m,\u001b[0m\u001b[0mmemview_ptrb\u001b[0m\u001b[0;34m,\u001b[0m\u001b[0mmemview_ptre\u001b[0m\u001b[0;34m,\u001b[0m\u001b[0mmemview_asub\u001b[0m\u001b[0;34m,\u001b[0m\u001b[0mmemview_aval\u001b[0m\u001b[0;34m)\u001b[0m\u001b[0;34m\u001b[0m\u001b[0;34m\u001b[0m\u001b[0m\n\u001b[1;32m  11353\u001b[0m       \u001b[0;32mif\u001b[0m \u001b[0m_res_putarowlist64\u001b[0m \u001b[0;34m!=\u001b[0m \u001b[0;36m0\u001b[0m\u001b[0;34m:\u001b[0m\u001b[0;34m\u001b[0m\u001b[0;34m\u001b[0m\u001b[0m\n\u001b[1;32m  11354\u001b[0m         \u001b[0m_\u001b[0m\u001b[0;34m,\u001b[0m\u001b[0m_msg_putarowlist64\u001b[0m \u001b[0;34m=\u001b[0m \u001b[0mself\u001b[0m\u001b[0;34m.\u001b[0m\u001b[0m__getlasterror\u001b[0m\u001b[0;34m(\u001b[0m\u001b[0m_res_putarowlist64\u001b[0m\u001b[0;34m)\u001b[0m\u001b[0;34m\u001b[0m\u001b[0;34m\u001b[0m\u001b[0m\n\u001b[0;32m> 11355\u001b[0;31m         \u001b[0;32mraise\u001b[0m \u001b[0mError\u001b[0m\u001b[0;34m(\u001b[0m\u001b[0mrescode\u001b[0m\u001b[0;34m(\u001b[0m\u001b[0m_res_putarowlist64\u001b[0m\u001b[0;34m)\u001b[0m\u001b[0;34m,\u001b[0m\u001b[0m_msg_putarowlist64\u001b[0m\u001b[0;34m)\u001b[0m\u001b[0;34m\u001b[0m\u001b[0;34m\u001b[0m\u001b[0m\n\u001b[0m",
      "\u001b[0;31mError\u001b[0m: rescode.err_invalid_aij(1473): The value of the A matrix element in constraint '' (1416) for variable 'x265' (264) is invalid."
     ]
    }
   ],
   "source": [
    "# model1_pol.optimize(OPT_LOCAL)\n",
    "# model2_pol.optimize(OPT_LOCAL)\n",
    "# model3_pol.optimize(OPT_LOCAL)\n",
    "model4_pol.optimize(OPT_LOCAL)"
   ]
  },
  {
   "cell_type": "code",
   "execution_count": null,
   "metadata": {},
   "outputs": [],
   "source": [
    "### inefficiency\n",
    "ineff1_pol = StoNED.StoNED(model1_pol)\n",
    "ineff2_pol = StoNED.StoNED(model2_pol)\n",
    "ineff3_pol = StoNED.StoNED(model3_pol)\n",
    "ineff4_pol = StoNED.StoNED(model4_pol)"
   ]
  },
  {
   "cell_type": "code",
   "execution_count": null,
   "metadata": {},
   "outputs": [
    {
     "name": "stderr",
     "output_type": "stream",
     "text": [
      "/home/hsin/miniconda3/envs/papyr2/lib/python3.9/site-packages/pystoned/StoNED.py:62: RuntimeWarning: divide by zero encountered in divide\n",
      "  return (self.y - Eu) / self.y\n"
     ]
    }
   ],
   "source": [
    "res_pol = {\n",
    "    \"res1_pol\" : {\n",
    "        \"alpha\" : \"None\",\n",
    "        \"beta\" : model1_pol.get_beta(),\n",
    "        \"delta\" : \"None\",\n",
    "        \"gamma\" : \"None\",\n",
    "        \"lamda\" : model1_pol.get_lamda(),\n",
    "        \"residuals\" : model1_pol.get_residual(),\n",
    "        \"frontier\" : model1_pol.get_frontier(),\n",
    "        \"unconditional_expected_inefficiency\" : ineff1_pol.get_unconditional_expected_inefficiency(method = RED_KDE),\n",
    "        \"technical_inefficiency\" : ineff1_pol.get_technical_inefficiency(method = RED_QLE)\n",
    "    },\n",
    "\n",
    "\n",
    "    \"res2_pol\" : {\n",
    "        \"alpha\" : model2_pol.get_alpha(),\n",
    "        \"beta\" : model2_pol.get_beta(),\n",
    "        \"delta\" : \"None\",\n",
    "        \"gamma\" : \"None\",\n",
    "        \"lamda\" : model2_pol.get_lamda(),\n",
    "        \"residuals\" : model2_pol.get_residual(),\n",
    "        \"frontier\" : model2_pol.get_frontier(),\n",
    "        \"unconditional_expected_inefficiency\" : ineff2_pol.get_unconditional_expected_inefficiency(method = RED_KDE),\n",
    "        \"technical_inefficiency\" : ineff2_pol.get_technical_inefficiency(method = RED_QLE)\n",
    "    },\n",
    "\n",
    "\n",
    "    \"res3_pol\" : {\n",
    "        \"alpha\" : model3_pol.get_alpha(),\n",
    "        \"beta\" : model3_pol.get_beta(),\n",
    "        \"delta\" : model3_pol.get_delta(),\n",
    "        \"gamma\" : model3_pol.get_gamma(),\n",
    "        \"lamda\" : \"None\",\n",
    "        \"residuals\" : model3_pol.get_residual(),\n",
    "        \"frontier\" : \"None\",\n",
    "        \"unconditional_expected_inefficiency\" : ineff3_pol.get_unconditional_expected_inefficiency(method = RED_KDE),\n",
    "        \"technical_inefficiency\" : ineff3_pol.get_technical_inefficiency(method = RED_QLE)\n",
    "    },\n",
    "\n",
    "\n",
    "    \"res4_pol\" : {\n",
    "        \"alpha\" : \"None\",\n",
    "        \"beta\" : model4_pol.get_beta(),\n",
    "        \"delta\" : \"None\",\n",
    "        \"gamma\" : model4_pol.get_gamma(),\n",
    "        \"lamda\" : \"None\",\n",
    "        \"residuals\" : model4_pol.get_residual(),\n",
    "        \"frontier\" : \"None\",\n",
    "        \"unconditional_expected_inefficiency\" : ineff4_pol.get_unconditional_expected_inefficiency(method = RED_KDE),\n",
    "        \"technical_inefficiency\" : ineff4_pol.get_technical_inefficiency(method = RED_QLE)\n",
    "    }\n",
    "}\n"
   ]
  },
  {
   "cell_type": "code",
   "execution_count": null,
   "metadata": {},
   "outputs": [],
   "source": [
    "import pickle\n",
    "file = 'res_pol'\n",
    "open_file = open(file, \"wb\")\n",
    "\n",
    "pickle.dump(res_pol, open_file)\n",
    "open_file.close()\n",
    "\n",
    "\n",
    "# open_file = open(file, \"rb\")\n",
    "# res_pol = pickle.load(open_file)\n",
    "# open_file.close()\n",
    "\n"
   ]
  }
 ],
 "metadata": {
  "kernelspec": {
   "display_name": "papyr2",
   "language": "python",
   "name": "python3"
  },
  "language_info": {
   "codemirror_mode": {
    "name": "ipython",
    "version": 3
   },
   "file_extension": ".py",
   "mimetype": "text/x-python",
   "name": "python",
   "nbconvert_exporter": "python",
   "pygments_lexer": "ipython3",
   "version": "3.9.16"
  },
  "orig_nbformat": 4,
  "vscode": {
   "interpreter": {
    "hash": "58d7d5403e033a96b450fd8f302d8d3a3f57e6894de7c48a927d4d99677e77bd"
   }
  }
 },
 "nbformat": 4,
 "nbformat_minor": 2
}
